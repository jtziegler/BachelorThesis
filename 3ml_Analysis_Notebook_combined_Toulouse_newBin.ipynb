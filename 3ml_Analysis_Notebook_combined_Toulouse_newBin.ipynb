{
 "cells": [
  {
   "cell_type": "code",
   "execution_count": 1,
   "id": "0dd09fe6",
   "metadata": {},
   "outputs": [
    {
     "name": "stdout",
     "output_type": "stream",
     "text": [
      "[\u001b[35mWARNING \u001b[0m]\u001b[35m The naima package is not available. Models that depend on it will not be available\u001b[0m\n",
      "[\u001b[35mWARNING \u001b[0m]\u001b[35m The GSL library or the pygsl wrapper cannot be loaded. Models that depend on it will not be available.\u001b[0m\n",
      "[\u001b[35mWARNING \u001b[0m]\u001b[35m The ebltable package is not available. Models that depend on it will not be available\u001b[0m\n",
      "[\u001b[32mINFO    \u001b[0m]\u001b[32m Starting 3ML!\u001b[0m\n",
      "[\u001b[35mWARNING \u001b[0m]\u001b[35m no display variable set. using backend for graphics without display (agg)\u001b[0m\n",
      "[\u001b[35mWARNING \u001b[0m]\u001b[35m ROOT minimizer not available\u001b[0m\n",
      "[\u001b[35mWARNING \u001b[0m]\u001b[35m Multinest minimizer not available\u001b[0m\n",
      "[\u001b[35mWARNING \u001b[0m]\u001b[35m PyGMO is not available\u001b[0m\n",
      "[\u001b[35mWARNING \u001b[0m]\u001b[35m The cthreeML package is not installed. You will not be able to use plugins which require the C/C++ interface (currently HAWC)\u001b[0m\n",
      "[\u001b[35mWARNING \u001b[0m]\u001b[35m Could not import plugin FermiLATLike.py. Do you have the relative instrument software installed and configured?\u001b[0m\n",
      "[\u001b[35mWARNING \u001b[0m]\u001b[35m Could not import plugin HAWCLike.py. Do you have the relative instrument software installed and configured?\u001b[0m\n",
      "[\u001b[35mWARNING \u001b[0m]\u001b[35m No fermitools installed\u001b[0m\n",
      "[\u001b[35mWARNING \u001b[0m]\u001b[35m Env. variable OMP_NUM_THREADS is not set. Please set it to 1 for optimal performances in 3ML\u001b[0m\n",
      "[\u001b[35mWARNING \u001b[0m]\u001b[35m Env. variable MKL_NUM_THREADS is not set. Please set it to 1 for optimal performances in 3ML\u001b[0m\n",
      "[\u001b[35mWARNING \u001b[0m]\u001b[35m Env. variable NUMEXPR_NUM_THREADS is not set. Please set it to 1 for optimal performances in 3ML\u001b[0m\n"
     ]
    }
   ],
   "source": [
    "from threeML import *\n",
    "from threeML.analysis_results import *\n",
    "import astropy.io.fits as fits\n",
    "import astropy.units as u\n",
    "import numpy as np"
   ]
  },
  {
   "cell_type": "code",
   "execution_count": 2,
   "id": "24e4b781",
   "metadata": {},
   "outputs": [],
   "source": [
    "silence_logs()\n",
    "from tqdm.auto import tqdm\n",
    "from jupyterthemes import jtplot\n",
    "\n",
    "%matplotlib inline\n",
    "jtplot.style(context=\"talk\", fscale=1, ticks=True, grid=False)\n",
    "import matplotlib.pyplot as plt\n",
    "\n",
    "set_threeML_style()"
   ]
  },
  {
   "cell_type": "code",
   "execution_count": 3,
   "id": "90bd2913",
   "metadata": {},
   "outputs": [
    {
     "data": {
      "text/plain": [
       "{'divide': 'warn', 'over': 'warn', 'under': 'ignore', 'invalid': 'warn'}"
      ]
     },
     "execution_count": 3,
     "metadata": {},
     "output_type": "execute_result"
    }
   ],
   "source": [
    "np.seterr(invalid='ignore')"
   ]
  },
  {
   "cell_type": "code",
   "execution_count": 4,
   "id": "28fbd3ae",
   "metadata": {},
   "outputs": [
    {
     "data": {
      "application/vnd.jupyter.widget-view+json": {
       "model_id": "02c7ed5e1db84121926098a3229e63ad",
       "version_major": 2,
       "version_minor": 0
      },
      "text/plain": [
       "processing MLE analyses:   0%|                                                        | 0/1 [00:00<?, ?it/s]"
      ]
     },
     "metadata": {},
     "output_type": "display_data"
    }
   ],
   "source": [
    "rev = ['43-53','54-123','124-203', '204-512', '513-635', '636-751', '752-804', '805-837', '838-870','871-994','995-1020','1021-1025','1026-1058','1059-1092','1093-1217','1218-1302','1303-1491','1492-1621','1622-1861','1862-1872','1873-2010']\n",
    "\n",
    "rev_mean_list = []\n",
    "rev_mean_err_list = []\n",
    "\n",
    "\n",
    "MJD = []\n",
    "MJD_err = []\n",
    "IJD = []\n",
    "IJD_err = []\n",
    "\n",
    "\n",
    "flux24_50 = []\n",
    "flux24_50_err_low = []\n",
    "flux24_50_err_up = []\n",
    "\n",
    "flux50_150  = []\n",
    "flux50_150_err_low = []\n",
    "flux50_150_err_up = []\n",
    "\n",
    "flux150_400 = []\n",
    "flux150_400_err_low = []\n",
    "flux150_400_err_up = []\n",
    "\n",
    "flux400_650 = []\n",
    "flux400_650_err_low = []\n",
    "flux400_650_err_up = []\n",
    "\n",
    "flux650_2000 = []\n",
    "flux650_2000_err_low = []\n",
    "flux650_2000_err_up = []\n",
    "\n",
    "flux2000_8000 = []\n",
    "flux2000_8000_err_low = []\n",
    "flux2000_8000_err_up = []\n",
    "\n",
    "\n",
    "flux1 = load_analysis_results(\"3ml_Crab_Parameters_SE_24-600keV_rev43-53.fits\").get_point_source_flux(20 * u.keV, 40 * u.keV) #for units on ylabel only"
   ]
  },
  {
   "cell_type": "code",
   "execution_count": 5,
   "id": "c2053115",
   "metadata": {},
   "outputs": [
    {
     "name": "stdout",
     "output_type": "stream",
     "text": [
      "43\n",
      "53\n",
      "48.0\n",
      "5.0\n",
      "54\n",
      "123\n",
      "88.5\n",
      "34.5\n",
      "124\n",
      "203\n",
      "163.5\n",
      "39.5\n",
      "204\n",
      "512\n",
      "358.0\n",
      "154.0\n",
      "513\n",
      "635\n",
      "574.0\n",
      "61.0\n",
      "636\n",
      "751\n",
      "693.5\n",
      "57.5\n",
      "752\n",
      "804\n",
      "778.0\n",
      "26.0\n",
      "805\n",
      "837\n",
      "821.0\n",
      "16.0\n",
      "838\n",
      "870\n",
      "854.0\n",
      "16.0\n",
      "871\n",
      "994\n",
      "932.5\n",
      "61.5\n",
      "995\n",
      "1020\n",
      "1007.5\n",
      "12.5\n",
      "1021\n",
      "1025\n",
      "1023.0\n",
      "2.0\n",
      "1026\n",
      "1058\n",
      "1042.0\n",
      "16.0\n",
      "1059\n",
      "1092\n",
      "1075.5\n",
      "16.5\n",
      "1093\n",
      "1217\n",
      "1155.0\n",
      "62.0\n",
      "1218\n",
      "1302\n",
      "1260.0\n",
      "42.0\n",
      "1303\n",
      "1491\n",
      "1397.0\n",
      "94.0\n",
      "1492\n",
      "1621\n",
      "1556.5\n",
      "64.5\n",
      "1622\n",
      "1861\n",
      "1741.5\n",
      "119.5\n",
      "1862\n",
      "1872\n",
      "1867.0\n",
      "5.0\n",
      "1873\n",
      "2010\n",
      "1941.5\n",
      "68.5\n"
     ]
    }
   ],
   "source": [
    "for i in range(len(rev)):\n",
    "    rev_single = str(rev[i]).partition('-')\n",
    "\n",
    "    print(rev_single[0])\n",
    "    print(rev_single[2])\n",
    "\n",
    "    rev_mean = (int(rev_single[0])+int(rev_single[2]))/2\n",
    "    print(rev_mean)\n",
    "    rev_mean_err = (int(rev_single[2])-int(rev_single[0]))/2\n",
    "    print(rev_mean_err)\n",
    "    rev_mean_list.append(rev_mean)\n",
    "    rev_mean_err_list.append(rev_mean_err)\n",
    "    \n",
    "#print(rev_mean_list)\n",
    "#print(rev_mean_err_list)"
   ]
  },
  {
   "cell_type": "code",
   "execution_count": 6,
   "id": "db22cd3c",
   "metadata": {},
   "outputs": [],
   "source": [
    "#####################\n",
    "# IMPORT DATASETS #\n",
    "#####################\n",
    "\n",
    "def import_fits_combined(rev):\n",
    "    ar = load_analysis_results(\"3ml_Crab_Parameters_combined_24-8000keV_rev\" + str(rev) + \".fits\")\n",
    "    \n",
    "\n",
    "    flux_24_50 = ar.get_point_source_flux(24 * u.keV, 50 * u.keV, flux_unit='1 / (cm**2 s)' ) \n",
    "    flux_50_150 = ar.get_point_source_flux(50 * u.keV, 150 * u.keV, flux_unit='1 / (cm**2 s )')\n",
    "    flux_150_400 = ar.get_point_source_flux(150 * u.keV, 400 * u.keV, flux_unit='1 / (cm**2 s)')\n",
    "    flux_400_650 = ar.get_point_source_flux(400 * u.keV, 650 * u.keV, flux_unit='1 / (cm**2 s)')\n",
    "    flux_650_2000 = ar.get_point_source_flux(650 * u.keV, 2000 * u.keV, flux_unit='1 / (cm**2 s)')\n",
    "    flux_2000_8000 = ar.get_point_source_flux(2000 * u.keV, 8000 * u.keV, flux_unit='1 / (cm**2 s)')\n",
    "\n",
    "    \n",
    "    flux24_50.append(flux_24_50.flux[0].value/26)\n",
    "    flux24_50_err_low.append((flux_24_50.flux[0].value - flux_24_50.min().min().value)/26)\n",
    "    flux24_50_err_up.append((flux_24_50.max().max().value - flux_24_50.flux[0].value)/26)\n",
    "    \n",
    "    flux50_150.append(flux_50_150.flux[0].value/100)\n",
    "    flux50_150_err_low.append((flux_50_150.flux[0].value - flux_50_150.min().min().value)/100)\n",
    "    flux50_150_err_up.append((flux_50_150.max().max().value - flux_50_150.flux[0].value)/100)\n",
    "    \n",
    "    flux150_400.append(flux_150_400.flux[0].value/250)\n",
    "    flux150_400_err_low.append((flux_150_400.flux[0].value - flux_150_400.min().min().value)/250)\n",
    "    flux150_400_err_up.append((flux_150_400.max().max().value - flux_150_400.flux[0].value)/250)\n",
    "    \n",
    "    flux400_650.append(flux_400_650.flux[0].value/250)\n",
    "    flux400_650_err_low.append((flux_400_650.flux[0].value - flux_400_650.min().min().value)/250)\n",
    "    flux400_650_err_up.append((flux_400_650.max().max().value - flux_400_650.flux[0].value)/250)\n",
    "\n",
    "    flux650_2000.append(flux_650_2000.flux[0].value/1350)\n",
    "    flux650_2000_err_low.append((flux_650_2000.flux[0].value - flux_650_2000.min().min().value)/1350)\n",
    "    flux650_2000_err_up.append((flux_650_2000.max().max().value - flux_650_2000.flux[0].value)/1350)\n",
    "    \n",
    "    flux2000_8000.append(flux_2000_8000.flux[0].value/6000)\n",
    "    flux2000_8000_err_low.append((flux_2000_8000.flux[0].value - flux_2000_8000.min().min().value)/6000)\n",
    "    flux2000_8000_err_up.append((flux_2000_8000.max().max().value - flux_2000_8000.flux[0].value)/6000)\n",
    "\n",
    "    print(\"Revolution \" + str(rev) + \" finished!\")\n"
   ]
  },
  {
   "cell_type": "code",
   "execution_count": 7,
   "id": "dc316fce",
   "metadata": {},
   "outputs": [],
   "source": [
    "#t = fits.open(\"../cookbook_dataset_02_0020-0600keV_SE_rev54-123/scw.fits.gz\")\n",
    "#t.info()\n",
    "#print(t[1].columns)\n",
    "#Revo = t[1].data['Revolution']\n",
    "#print(Revo)\n",
    "#TSTART = t[1].data['TSTART']\n",
    "#print(TSTART)\n",
    "#TEND = t[1].data['TEND']\n",
    "#print(TEND)\n",
    "#print(TSTART.mean())\n",
    "#print(TEND.mean())\n",
    "#print(((TSTART+TEND)/2).mean())\n",
    "#ScwID = t[1].data['ScwID']\n",
    "#print(ScwID)\n",
    "#DateStart = t[1].data['DateStart']\n",
    "#print(DateStart)"
   ]
  },
  {
   "cell_type": "code",
   "execution_count": 8,
   "id": "a0728b3c",
   "metadata": {},
   "outputs": [],
   "source": [
    "#print(TSTART)\n",
    "#print(TSTART[0])\n",
    "#print(TEND)\n",
    "#print(TEND[-1])\n",
    "#TERR = (TEND[-1] - TSTART[0])/2\n",
    "#print(TERR)"
   ]
  },
  {
   "cell_type": "code",
   "execution_count": 9,
   "id": "9c44cc46",
   "metadata": {},
   "outputs": [],
   "source": [
    "#############################\n",
    "# Turn Revolutions into Days #\n",
    "##############################\n",
    "def get_days(rev):\n",
    "\n",
    "    times_rev = fits.open(\"../cookbook_dataset_02_0020-0600keV_SE_rev\" + str(rev) + \"/scw.fits.gz\")\n",
    "    TEND = times_rev[1].data['TEND']\n",
    "    TSTART = times_rev[1].data['TSTART']\n",
    "    TMEAN = ((TSTART+TEND)/2).mean()\n",
    "    TERR = (TEND[-1] - TSTART[0])/2\n",
    "    \n",
    "    IJD.append(TMEAN)\n",
    "    MJD.append(TMEAN + 51544)\n",
    "    IJD_err.append(TERR)\n",
    "    MJD_err.append(TERR)"
   ]
  },
  {
   "cell_type": "code",
   "execution_count": 10,
   "id": "4bf66f21",
   "metadata": {},
   "outputs": [
    {
     "data": {
      "application/vnd.jupyter.widget-view+json": {
       "model_id": "baaae1fa2d954355bb4de2da2d852741",
       "version_major": 2,
       "version_minor": 0
      },
      "text/plain": [
       "processing MLE analyses:   0%|                                                        | 0/1 [00:00<?, ?it/s]"
      ]
     },
     "metadata": {},
     "output_type": "display_data"
    },
    {
     "data": {
      "application/vnd.jupyter.widget-view+json": {
       "model_id": "aad59f13e5b54004b853799c6713e7ed",
       "version_major": 2,
       "version_minor": 0
      },
      "text/plain": [
       "processing MLE analyses:   0%|                                                        | 0/1 [00:00<?, ?it/s]"
      ]
     },
     "metadata": {},
     "output_type": "display_data"
    },
    {
     "data": {
      "application/vnd.jupyter.widget-view+json": {
       "model_id": "e7e09fe9ea6b4ec7a8911e2ef0a740ef",
       "version_major": 2,
       "version_minor": 0
      },
      "text/plain": [
       "processing MLE analyses:   0%|                                                        | 0/1 [00:00<?, ?it/s]"
      ]
     },
     "metadata": {},
     "output_type": "display_data"
    },
    {
     "data": {
      "application/vnd.jupyter.widget-view+json": {
       "model_id": "eed675fbd844476e87ff47a78d650999",
       "version_major": 2,
       "version_minor": 0
      },
      "text/plain": [
       "processing MLE analyses:   0%|                                                        | 0/1 [00:00<?, ?it/s]"
      ]
     },
     "metadata": {},
     "output_type": "display_data"
    },
    {
     "data": {
      "application/vnd.jupyter.widget-view+json": {
       "model_id": "10cd402d492f4320a91e1f59de09933a",
       "version_major": 2,
       "version_minor": 0
      },
      "text/plain": [
       "processing MLE analyses:   0%|                                                        | 0/1 [00:00<?, ?it/s]"
      ]
     },
     "metadata": {},
     "output_type": "display_data"
    },
    {
     "data": {
      "application/vnd.jupyter.widget-view+json": {
       "model_id": "b054cf5e2eb94c9b841fb6931985bd57",
       "version_major": 2,
       "version_minor": 0
      },
      "text/plain": [
       "processing MLE analyses:   0%|                                                        | 0/1 [00:00<?, ?it/s]"
      ]
     },
     "metadata": {},
     "output_type": "display_data"
    },
    {
     "name": "stdout",
     "output_type": "stream",
     "text": [
      "Revolution 43-53 finished!\n"
     ]
    },
    {
     "data": {
      "application/vnd.jupyter.widget-view+json": {
       "model_id": "a427827d876b464e9de2b99f11edfe81",
       "version_major": 2,
       "version_minor": 0
      },
      "text/plain": [
       "processing MLE analyses:   0%|                                                        | 0/1 [00:00<?, ?it/s]"
      ]
     },
     "metadata": {},
     "output_type": "display_data"
    },
    {
     "data": {
      "application/vnd.jupyter.widget-view+json": {
       "model_id": "cca5acbc4c5e47dba5c152dc0033d674",
       "version_major": 2,
       "version_minor": 0
      },
      "text/plain": [
       "processing MLE analyses:   0%|                                                        | 0/1 [00:00<?, ?it/s]"
      ]
     },
     "metadata": {},
     "output_type": "display_data"
    },
    {
     "data": {
      "application/vnd.jupyter.widget-view+json": {
       "model_id": "1ec0679f400840fd96bb41394363c8f6",
       "version_major": 2,
       "version_minor": 0
      },
      "text/plain": [
       "processing MLE analyses:   0%|                                                        | 0/1 [00:00<?, ?it/s]"
      ]
     },
     "metadata": {},
     "output_type": "display_data"
    },
    {
     "data": {
      "application/vnd.jupyter.widget-view+json": {
       "model_id": "d6c70efcf02a4aacbbf712101b849af2",
       "version_major": 2,
       "version_minor": 0
      },
      "text/plain": [
       "processing MLE analyses:   0%|                                                        | 0/1 [00:00<?, ?it/s]"
      ]
     },
     "metadata": {},
     "output_type": "display_data"
    },
    {
     "data": {
      "application/vnd.jupyter.widget-view+json": {
       "model_id": "31df11ff804c4d8a8e926d70a47a1eec",
       "version_major": 2,
       "version_minor": 0
      },
      "text/plain": [
       "processing MLE analyses:   0%|                                                        | 0/1 [00:00<?, ?it/s]"
      ]
     },
     "metadata": {},
     "output_type": "display_data"
    },
    {
     "data": {
      "application/vnd.jupyter.widget-view+json": {
       "model_id": "fd8c234fbb7840bd921db37b72e33b00",
       "version_major": 2,
       "version_minor": 0
      },
      "text/plain": [
       "processing MLE analyses:   0%|                                                        | 0/1 [00:00<?, ?it/s]"
      ]
     },
     "metadata": {},
     "output_type": "display_data"
    },
    {
     "name": "stdout",
     "output_type": "stream",
     "text": [
      "Revolution 54-123 finished!\n"
     ]
    },
    {
     "data": {
      "application/vnd.jupyter.widget-view+json": {
       "model_id": "5c0f2fbdc3794f9fa97e3caedaaef972",
       "version_major": 2,
       "version_minor": 0
      },
      "text/plain": [
       "processing MLE analyses:   0%|                                                        | 0/1 [00:00<?, ?it/s]"
      ]
     },
     "metadata": {},
     "output_type": "display_data"
    },
    {
     "data": {
      "application/vnd.jupyter.widget-view+json": {
       "model_id": "df8f20ceb3594747bb1997008a59140f",
       "version_major": 2,
       "version_minor": 0
      },
      "text/plain": [
       "processing MLE analyses:   0%|                                                        | 0/1 [00:00<?, ?it/s]"
      ]
     },
     "metadata": {},
     "output_type": "display_data"
    },
    {
     "data": {
      "application/vnd.jupyter.widget-view+json": {
       "model_id": "23932104b54d469992ca33a3daa61a90",
       "version_major": 2,
       "version_minor": 0
      },
      "text/plain": [
       "processing MLE analyses:   0%|                                                        | 0/1 [00:00<?, ?it/s]"
      ]
     },
     "metadata": {},
     "output_type": "display_data"
    },
    {
     "data": {
      "application/vnd.jupyter.widget-view+json": {
       "model_id": "4bca8bd6149e49c895018e7f8d4f6909",
       "version_major": 2,
       "version_minor": 0
      },
      "text/plain": [
       "processing MLE analyses:   0%|                                                        | 0/1 [00:00<?, ?it/s]"
      ]
     },
     "metadata": {},
     "output_type": "display_data"
    },
    {
     "data": {
      "application/vnd.jupyter.widget-view+json": {
       "model_id": "114471f1bbcd4e9f8e3b71a3a6e58278",
       "version_major": 2,
       "version_minor": 0
      },
      "text/plain": [
       "processing MLE analyses:   0%|                                                        | 0/1 [00:00<?, ?it/s]"
      ]
     },
     "metadata": {},
     "output_type": "display_data"
    },
    {
     "data": {
      "application/vnd.jupyter.widget-view+json": {
       "model_id": "4301c09e3e914186ae6846f4052d38f1",
       "version_major": 2,
       "version_minor": 0
      },
      "text/plain": [
       "processing MLE analyses:   0%|                                                        | 0/1 [00:00<?, ?it/s]"
      ]
     },
     "metadata": {},
     "output_type": "display_data"
    },
    {
     "name": "stdout",
     "output_type": "stream",
     "text": [
      "Revolution 124-203 finished!\n"
     ]
    },
    {
     "data": {
      "application/vnd.jupyter.widget-view+json": {
       "model_id": "776ef4c09f8449c9970684c1a2b129dd",
       "version_major": 2,
       "version_minor": 0
      },
      "text/plain": [
       "processing MLE analyses:   0%|                                                        | 0/1 [00:00<?, ?it/s]"
      ]
     },
     "metadata": {},
     "output_type": "display_data"
    },
    {
     "data": {
      "application/vnd.jupyter.widget-view+json": {
       "model_id": "43d045ed17ce429ca0e5f22bc0c48e3f",
       "version_major": 2,
       "version_minor": 0
      },
      "text/plain": [
       "processing MLE analyses:   0%|                                                        | 0/1 [00:00<?, ?it/s]"
      ]
     },
     "metadata": {},
     "output_type": "display_data"
    },
    {
     "data": {
      "application/vnd.jupyter.widget-view+json": {
       "model_id": "77d9eb8d0350400c95f79ce3defb29e1",
       "version_major": 2,
       "version_minor": 0
      },
      "text/plain": [
       "processing MLE analyses:   0%|                                                        | 0/1 [00:00<?, ?it/s]"
      ]
     },
     "metadata": {},
     "output_type": "display_data"
    },
    {
     "data": {
      "application/vnd.jupyter.widget-view+json": {
       "model_id": "e2fc70dcc3cf4894a5bd42745e52ac22",
       "version_major": 2,
       "version_minor": 0
      },
      "text/plain": [
       "processing MLE analyses:   0%|                                                        | 0/1 [00:00<?, ?it/s]"
      ]
     },
     "metadata": {},
     "output_type": "display_data"
    },
    {
     "data": {
      "application/vnd.jupyter.widget-view+json": {
       "model_id": "e3814aee746f441a9f956882d5ab076f",
       "version_major": 2,
       "version_minor": 0
      },
      "text/plain": [
       "processing MLE analyses:   0%|                                                        | 0/1 [00:00<?, ?it/s]"
      ]
     },
     "metadata": {},
     "output_type": "display_data"
    },
    {
     "data": {
      "application/vnd.jupyter.widget-view+json": {
       "model_id": "285b96d8ed384099bcaa1d799585ae63",
       "version_major": 2,
       "version_minor": 0
      },
      "text/plain": [
       "processing MLE analyses:   0%|                                                        | 0/1 [00:00<?, ?it/s]"
      ]
     },
     "metadata": {},
     "output_type": "display_data"
    },
    {
     "name": "stdout",
     "output_type": "stream",
     "text": [
      "Revolution 204-512 finished!\n"
     ]
    },
    {
     "data": {
      "application/vnd.jupyter.widget-view+json": {
       "model_id": "4d3d2ca34ff94092be07e0b235e5ac93",
       "version_major": 2,
       "version_minor": 0
      },
      "text/plain": [
       "processing MLE analyses:   0%|                                                        | 0/1 [00:00<?, ?it/s]"
      ]
     },
     "metadata": {},
     "output_type": "display_data"
    },
    {
     "data": {
      "application/vnd.jupyter.widget-view+json": {
       "model_id": "9babc85008454e5581c9250374db6990",
       "version_major": 2,
       "version_minor": 0
      },
      "text/plain": [
       "processing MLE analyses:   0%|                                                        | 0/1 [00:00<?, ?it/s]"
      ]
     },
     "metadata": {},
     "output_type": "display_data"
    },
    {
     "data": {
      "application/vnd.jupyter.widget-view+json": {
       "model_id": "f90d63fe36da4ecfa9ef50cffd5ef425",
       "version_major": 2,
       "version_minor": 0
      },
      "text/plain": [
       "processing MLE analyses:   0%|                                                        | 0/1 [00:00<?, ?it/s]"
      ]
     },
     "metadata": {},
     "output_type": "display_data"
    },
    {
     "data": {
      "application/vnd.jupyter.widget-view+json": {
       "model_id": "73eabd2cad634bfa85498e1da51e1c29",
       "version_major": 2,
       "version_minor": 0
      },
      "text/plain": [
       "processing MLE analyses:   0%|                                                        | 0/1 [00:00<?, ?it/s]"
      ]
     },
     "metadata": {},
     "output_type": "display_data"
    },
    {
     "data": {
      "application/vnd.jupyter.widget-view+json": {
       "model_id": "568201a9d88649249cb87ab38c2549a5",
       "version_major": 2,
       "version_minor": 0
      },
      "text/plain": [
       "processing MLE analyses:   0%|                                                        | 0/1 [00:00<?, ?it/s]"
      ]
     },
     "metadata": {},
     "output_type": "display_data"
    },
    {
     "data": {
      "application/vnd.jupyter.widget-view+json": {
       "model_id": "0b3c50a5e7854fcca8a89b293b5aebb3",
       "version_major": 2,
       "version_minor": 0
      },
      "text/plain": [
       "processing MLE analyses:   0%|                                                        | 0/1 [00:00<?, ?it/s]"
      ]
     },
     "metadata": {},
     "output_type": "display_data"
    },
    {
     "name": "stdout",
     "output_type": "stream",
     "text": [
      "Revolution 513-635 finished!\n"
     ]
    },
    {
     "data": {
      "application/vnd.jupyter.widget-view+json": {
       "model_id": "8967ee5faaee4f02a73604feffb9b1d1",
       "version_major": 2,
       "version_minor": 0
      },
      "text/plain": [
       "processing MLE analyses:   0%|                                                        | 0/1 [00:00<?, ?it/s]"
      ]
     },
     "metadata": {},
     "output_type": "display_data"
    },
    {
     "data": {
      "application/vnd.jupyter.widget-view+json": {
       "model_id": "dc76a00540804034a9103bd4205200d3",
       "version_major": 2,
       "version_minor": 0
      },
      "text/plain": [
       "processing MLE analyses:   0%|                                                        | 0/1 [00:00<?, ?it/s]"
      ]
     },
     "metadata": {},
     "output_type": "display_data"
    },
    {
     "data": {
      "application/vnd.jupyter.widget-view+json": {
       "model_id": "77ba9a7d19be42f6b9529b6706d98d7b",
       "version_major": 2,
       "version_minor": 0
      },
      "text/plain": [
       "processing MLE analyses:   0%|                                                        | 0/1 [00:00<?, ?it/s]"
      ]
     },
     "metadata": {},
     "output_type": "display_data"
    },
    {
     "data": {
      "application/vnd.jupyter.widget-view+json": {
       "model_id": "d7f7c0c14b4a425b85e54df8eb778dac",
       "version_major": 2,
       "version_minor": 0
      },
      "text/plain": [
       "processing MLE analyses:   0%|                                                        | 0/1 [00:00<?, ?it/s]"
      ]
     },
     "metadata": {},
     "output_type": "display_data"
    },
    {
     "data": {
      "application/vnd.jupyter.widget-view+json": {
       "model_id": "363f9d946c0b457c848dffc8a931ed43",
       "version_major": 2,
       "version_minor": 0
      },
      "text/plain": [
       "processing MLE analyses:   0%|                                                        | 0/1 [00:00<?, ?it/s]"
      ]
     },
     "metadata": {},
     "output_type": "display_data"
    },
    {
     "data": {
      "application/vnd.jupyter.widget-view+json": {
       "model_id": "d70ebda389754c0b88a5eb98479757ff",
       "version_major": 2,
       "version_minor": 0
      },
      "text/plain": [
       "processing MLE analyses:   0%|                                                        | 0/1 [00:00<?, ?it/s]"
      ]
     },
     "metadata": {},
     "output_type": "display_data"
    },
    {
     "name": "stdout",
     "output_type": "stream",
     "text": [
      "Revolution 636-751 finished!\n"
     ]
    },
    {
     "data": {
      "application/vnd.jupyter.widget-view+json": {
       "model_id": "df3f7e0a6cd9497ab62852160384b4d0",
       "version_major": 2,
       "version_minor": 0
      },
      "text/plain": [
       "processing MLE analyses:   0%|                                                        | 0/1 [00:00<?, ?it/s]"
      ]
     },
     "metadata": {},
     "output_type": "display_data"
    },
    {
     "data": {
      "application/vnd.jupyter.widget-view+json": {
       "model_id": "21245b5d29f74aefaf9b670360477971",
       "version_major": 2,
       "version_minor": 0
      },
      "text/plain": [
       "processing MLE analyses:   0%|                                                        | 0/1 [00:00<?, ?it/s]"
      ]
     },
     "metadata": {},
     "output_type": "display_data"
    },
    {
     "data": {
      "application/vnd.jupyter.widget-view+json": {
       "model_id": "793c32762cde46ef8dd77862e2d03b99",
       "version_major": 2,
       "version_minor": 0
      },
      "text/plain": [
       "processing MLE analyses:   0%|                                                        | 0/1 [00:00<?, ?it/s]"
      ]
     },
     "metadata": {},
     "output_type": "display_data"
    },
    {
     "data": {
      "application/vnd.jupyter.widget-view+json": {
       "model_id": "6a383555d2e041cdb5888767bbce613d",
       "version_major": 2,
       "version_minor": 0
      },
      "text/plain": [
       "processing MLE analyses:   0%|                                                        | 0/1 [00:00<?, ?it/s]"
      ]
     },
     "metadata": {},
     "output_type": "display_data"
    },
    {
     "data": {
      "application/vnd.jupyter.widget-view+json": {
       "model_id": "19809e0946a643b99d1ddc8481387f25",
       "version_major": 2,
       "version_minor": 0
      },
      "text/plain": [
       "processing MLE analyses:   0%|                                                        | 0/1 [00:00<?, ?it/s]"
      ]
     },
     "metadata": {},
     "output_type": "display_data"
    },
    {
     "data": {
      "application/vnd.jupyter.widget-view+json": {
       "model_id": "a397847f5d374f55b6dde5e58a1e8a88",
       "version_major": 2,
       "version_minor": 0
      },
      "text/plain": [
       "processing MLE analyses:   0%|                                                        | 0/1 [00:00<?, ?it/s]"
      ]
     },
     "metadata": {},
     "output_type": "display_data"
    },
    {
     "name": "stdout",
     "output_type": "stream",
     "text": [
      "Revolution 752-804 finished!\n"
     ]
    },
    {
     "data": {
      "application/vnd.jupyter.widget-view+json": {
       "model_id": "79ea3ae991cc4259a51b9720df5fe44a",
       "version_major": 2,
       "version_minor": 0
      },
      "text/plain": [
       "processing MLE analyses:   0%|                                                        | 0/1 [00:00<?, ?it/s]"
      ]
     },
     "metadata": {},
     "output_type": "display_data"
    },
    {
     "data": {
      "application/vnd.jupyter.widget-view+json": {
       "model_id": "1d388c31ffd847c08e18639c9d8d507f",
       "version_major": 2,
       "version_minor": 0
      },
      "text/plain": [
       "processing MLE analyses:   0%|                                                        | 0/1 [00:00<?, ?it/s]"
      ]
     },
     "metadata": {},
     "output_type": "display_data"
    },
    {
     "data": {
      "application/vnd.jupyter.widget-view+json": {
       "model_id": "883d1ad33a16412ea6ac20d9a85f9739",
       "version_major": 2,
       "version_minor": 0
      },
      "text/plain": [
       "processing MLE analyses:   0%|                                                        | 0/1 [00:00<?, ?it/s]"
      ]
     },
     "metadata": {},
     "output_type": "display_data"
    },
    {
     "data": {
      "application/vnd.jupyter.widget-view+json": {
       "model_id": "740305a97b7f45779c0bbe629f98ed8a",
       "version_major": 2,
       "version_minor": 0
      },
      "text/plain": [
       "processing MLE analyses:   0%|                                                        | 0/1 [00:00<?, ?it/s]"
      ]
     },
     "metadata": {},
     "output_type": "display_data"
    },
    {
     "data": {
      "application/vnd.jupyter.widget-view+json": {
       "model_id": "7299705b29c84663b72f2d80f5ff9815",
       "version_major": 2,
       "version_minor": 0
      },
      "text/plain": [
       "processing MLE analyses:   0%|                                                        | 0/1 [00:00<?, ?it/s]"
      ]
     },
     "metadata": {},
     "output_type": "display_data"
    },
    {
     "data": {
      "application/vnd.jupyter.widget-view+json": {
       "model_id": "dd7355933e6044fc9c40c329afc08a3a",
       "version_major": 2,
       "version_minor": 0
      },
      "text/plain": [
       "processing MLE analyses:   0%|                                                        | 0/1 [00:00<?, ?it/s]"
      ]
     },
     "metadata": {},
     "output_type": "display_data"
    },
    {
     "name": "stdout",
     "output_type": "stream",
     "text": [
      "Revolution 805-837 finished!\n"
     ]
    },
    {
     "data": {
      "application/vnd.jupyter.widget-view+json": {
       "model_id": "46006ea093d249cdb5d7ab3530015531",
       "version_major": 2,
       "version_minor": 0
      },
      "text/plain": [
       "processing MLE analyses:   0%|                                                        | 0/1 [00:00<?, ?it/s]"
      ]
     },
     "metadata": {},
     "output_type": "display_data"
    },
    {
     "data": {
      "application/vnd.jupyter.widget-view+json": {
       "model_id": "df29c4c08c9b48a587954796fbf8b765",
       "version_major": 2,
       "version_minor": 0
      },
      "text/plain": [
       "processing MLE analyses:   0%|                                                        | 0/1 [00:00<?, ?it/s]"
      ]
     },
     "metadata": {},
     "output_type": "display_data"
    },
    {
     "data": {
      "application/vnd.jupyter.widget-view+json": {
       "model_id": "1387b5f9062a47d89b0c3c135625e0ad",
       "version_major": 2,
       "version_minor": 0
      },
      "text/plain": [
       "processing MLE analyses:   0%|                                                        | 0/1 [00:00<?, ?it/s]"
      ]
     },
     "metadata": {},
     "output_type": "display_data"
    },
    {
     "data": {
      "application/vnd.jupyter.widget-view+json": {
       "model_id": "dc466f2cd97341189b91610b1fadc10c",
       "version_major": 2,
       "version_minor": 0
      },
      "text/plain": [
       "processing MLE analyses:   0%|                                                        | 0/1 [00:00<?, ?it/s]"
      ]
     },
     "metadata": {},
     "output_type": "display_data"
    },
    {
     "data": {
      "application/vnd.jupyter.widget-view+json": {
       "model_id": "d5ffe7d3adc741febf43cffaed0ee5e1",
       "version_major": 2,
       "version_minor": 0
      },
      "text/plain": [
       "processing MLE analyses:   0%|                                                        | 0/1 [00:00<?, ?it/s]"
      ]
     },
     "metadata": {},
     "output_type": "display_data"
    },
    {
     "data": {
      "application/vnd.jupyter.widget-view+json": {
       "model_id": "03b0b8bc62cd4012a33c6b83d7dc4fe1",
       "version_major": 2,
       "version_minor": 0
      },
      "text/plain": [
       "processing MLE analyses:   0%|                                                        | 0/1 [00:00<?, ?it/s]"
      ]
     },
     "metadata": {},
     "output_type": "display_data"
    },
    {
     "name": "stdout",
     "output_type": "stream",
     "text": [
      "Revolution 838-870 finished!\n"
     ]
    },
    {
     "data": {
      "application/vnd.jupyter.widget-view+json": {
       "model_id": "4793ab0d64874ad2a59f561ab7d99bbe",
       "version_major": 2,
       "version_minor": 0
      },
      "text/plain": [
       "processing MLE analyses:   0%|                                                        | 0/1 [00:00<?, ?it/s]"
      ]
     },
     "metadata": {},
     "output_type": "display_data"
    },
    {
     "data": {
      "application/vnd.jupyter.widget-view+json": {
       "model_id": "6b5db6102d2b4698b149a8003556f2f4",
       "version_major": 2,
       "version_minor": 0
      },
      "text/plain": [
       "processing MLE analyses:   0%|                                                        | 0/1 [00:00<?, ?it/s]"
      ]
     },
     "metadata": {},
     "output_type": "display_data"
    },
    {
     "data": {
      "application/vnd.jupyter.widget-view+json": {
       "model_id": "75a1935790414ff59efb0e0ee4296acc",
       "version_major": 2,
       "version_minor": 0
      },
      "text/plain": [
       "processing MLE analyses:   0%|                                                        | 0/1 [00:00<?, ?it/s]"
      ]
     },
     "metadata": {},
     "output_type": "display_data"
    },
    {
     "data": {
      "application/vnd.jupyter.widget-view+json": {
       "model_id": "e3a540c84a0f4c619086807184a41dea",
       "version_major": 2,
       "version_minor": 0
      },
      "text/plain": [
       "processing MLE analyses:   0%|                                                        | 0/1 [00:00<?, ?it/s]"
      ]
     },
     "metadata": {},
     "output_type": "display_data"
    },
    {
     "data": {
      "application/vnd.jupyter.widget-view+json": {
       "model_id": "15630ca3a44141758fc015c8069eaf43",
       "version_major": 2,
       "version_minor": 0
      },
      "text/plain": [
       "processing MLE analyses:   0%|                                                        | 0/1 [00:00<?, ?it/s]"
      ]
     },
     "metadata": {},
     "output_type": "display_data"
    },
    {
     "data": {
      "application/vnd.jupyter.widget-view+json": {
       "model_id": "65f97ed9dccc458bbd396dc9b7ac46d1",
       "version_major": 2,
       "version_minor": 0
      },
      "text/plain": [
       "processing MLE analyses:   0%|                                                        | 0/1 [00:00<?, ?it/s]"
      ]
     },
     "metadata": {},
     "output_type": "display_data"
    },
    {
     "name": "stdout",
     "output_type": "stream",
     "text": [
      "Revolution 871-994 finished!\n"
     ]
    },
    {
     "data": {
      "application/vnd.jupyter.widget-view+json": {
       "model_id": "0d9a659d5b754f928b2faf33d1c12526",
       "version_major": 2,
       "version_minor": 0
      },
      "text/plain": [
       "processing MLE analyses:   0%|                                                        | 0/1 [00:00<?, ?it/s]"
      ]
     },
     "metadata": {},
     "output_type": "display_data"
    },
    {
     "data": {
      "application/vnd.jupyter.widget-view+json": {
       "model_id": "bc637cddcbb1417380e8784a5501fc56",
       "version_major": 2,
       "version_minor": 0
      },
      "text/plain": [
       "processing MLE analyses:   0%|                                                        | 0/1 [00:00<?, ?it/s]"
      ]
     },
     "metadata": {},
     "output_type": "display_data"
    },
    {
     "data": {
      "application/vnd.jupyter.widget-view+json": {
       "model_id": "b3073f4528864f8984182761bf745200",
       "version_major": 2,
       "version_minor": 0
      },
      "text/plain": [
       "processing MLE analyses:   0%|                                                        | 0/1 [00:00<?, ?it/s]"
      ]
     },
     "metadata": {},
     "output_type": "display_data"
    },
    {
     "data": {
      "application/vnd.jupyter.widget-view+json": {
       "model_id": "4a3d7dea3ff34117877357b6be18a160",
       "version_major": 2,
       "version_minor": 0
      },
      "text/plain": [
       "processing MLE analyses:   0%|                                                        | 0/1 [00:00<?, ?it/s]"
      ]
     },
     "metadata": {},
     "output_type": "display_data"
    },
    {
     "data": {
      "application/vnd.jupyter.widget-view+json": {
       "model_id": "acff4994d4924b9aa285aed88c3774e5",
       "version_major": 2,
       "version_minor": 0
      },
      "text/plain": [
       "processing MLE analyses:   0%|                                                        | 0/1 [00:00<?, ?it/s]"
      ]
     },
     "metadata": {},
     "output_type": "display_data"
    },
    {
     "data": {
      "application/vnd.jupyter.widget-view+json": {
       "model_id": "e0bbc7a5080e4a6b9c714e0ac83a1a53",
       "version_major": 2,
       "version_minor": 0
      },
      "text/plain": [
       "processing MLE analyses:   0%|                                                        | 0/1 [00:00<?, ?it/s]"
      ]
     },
     "metadata": {},
     "output_type": "display_data"
    },
    {
     "name": "stdout",
     "output_type": "stream",
     "text": [
      "Revolution 995-1020 finished!\n"
     ]
    },
    {
     "data": {
      "application/vnd.jupyter.widget-view+json": {
       "model_id": "9d70e9d70f924f7c969eb099f0380e32",
       "version_major": 2,
       "version_minor": 0
      },
      "text/plain": [
       "processing MLE analyses:   0%|                                                        | 0/1 [00:00<?, ?it/s]"
      ]
     },
     "metadata": {},
     "output_type": "display_data"
    },
    {
     "data": {
      "application/vnd.jupyter.widget-view+json": {
       "model_id": "dab29685524a4fc88f7a216d67fd0468",
       "version_major": 2,
       "version_minor": 0
      },
      "text/plain": [
       "processing MLE analyses:   0%|                                                        | 0/1 [00:00<?, ?it/s]"
      ]
     },
     "metadata": {},
     "output_type": "display_data"
    },
    {
     "data": {
      "application/vnd.jupyter.widget-view+json": {
       "model_id": "cc80ba6c86c1456f9e83fa33c6727f93",
       "version_major": 2,
       "version_minor": 0
      },
      "text/plain": [
       "processing MLE analyses:   0%|                                                        | 0/1 [00:00<?, ?it/s]"
      ]
     },
     "metadata": {},
     "output_type": "display_data"
    },
    {
     "data": {
      "application/vnd.jupyter.widget-view+json": {
       "model_id": "f692b2e26d454096b6e6ec1a0dcd0db1",
       "version_major": 2,
       "version_minor": 0
      },
      "text/plain": [
       "processing MLE analyses:   0%|                                                        | 0/1 [00:00<?, ?it/s]"
      ]
     },
     "metadata": {},
     "output_type": "display_data"
    },
    {
     "data": {
      "application/vnd.jupyter.widget-view+json": {
       "model_id": "238479c5b4474603bfed56a913ce3cae",
       "version_major": 2,
       "version_minor": 0
      },
      "text/plain": [
       "processing MLE analyses:   0%|                                                        | 0/1 [00:00<?, ?it/s]"
      ]
     },
     "metadata": {},
     "output_type": "display_data"
    },
    {
     "data": {
      "application/vnd.jupyter.widget-view+json": {
       "model_id": "08b099d90eb1439ab773c568cec5029e",
       "version_major": 2,
       "version_minor": 0
      },
      "text/plain": [
       "processing MLE analyses:   0%|                                                        | 0/1 [00:00<?, ?it/s]"
      ]
     },
     "metadata": {},
     "output_type": "display_data"
    },
    {
     "name": "stdout",
     "output_type": "stream",
     "text": [
      "Revolution 1021-1025 finished!\n"
     ]
    },
    {
     "data": {
      "application/vnd.jupyter.widget-view+json": {
       "model_id": "7dad3876c1e747daa5b2a7debf96ccb5",
       "version_major": 2,
       "version_minor": 0
      },
      "text/plain": [
       "processing MLE analyses:   0%|                                                        | 0/1 [00:00<?, ?it/s]"
      ]
     },
     "metadata": {},
     "output_type": "display_data"
    },
    {
     "data": {
      "application/vnd.jupyter.widget-view+json": {
       "model_id": "146b7bc57a3a4a44bf2dfd608d5874fd",
       "version_major": 2,
       "version_minor": 0
      },
      "text/plain": [
       "processing MLE analyses:   0%|                                                        | 0/1 [00:00<?, ?it/s]"
      ]
     },
     "metadata": {},
     "output_type": "display_data"
    },
    {
     "data": {
      "application/vnd.jupyter.widget-view+json": {
       "model_id": "136514b25fa74bfb8d3215f0d4a915ae",
       "version_major": 2,
       "version_minor": 0
      },
      "text/plain": [
       "processing MLE analyses:   0%|                                                        | 0/1 [00:00<?, ?it/s]"
      ]
     },
     "metadata": {},
     "output_type": "display_data"
    },
    {
     "data": {
      "application/vnd.jupyter.widget-view+json": {
       "model_id": "031f6b9d30494c138ae7004ec803fe8e",
       "version_major": 2,
       "version_minor": 0
      },
      "text/plain": [
       "processing MLE analyses:   0%|                                                        | 0/1 [00:00<?, ?it/s]"
      ]
     },
     "metadata": {},
     "output_type": "display_data"
    },
    {
     "data": {
      "application/vnd.jupyter.widget-view+json": {
       "model_id": "8dd1e0cd2f874e21b4861fe9eb842eec",
       "version_major": 2,
       "version_minor": 0
      },
      "text/plain": [
       "processing MLE analyses:   0%|                                                        | 0/1 [00:00<?, ?it/s]"
      ]
     },
     "metadata": {},
     "output_type": "display_data"
    },
    {
     "data": {
      "application/vnd.jupyter.widget-view+json": {
       "model_id": "44a15e2810264ad6ab422266e83e02b2",
       "version_major": 2,
       "version_minor": 0
      },
      "text/plain": [
       "processing MLE analyses:   0%|                                                        | 0/1 [00:00<?, ?it/s]"
      ]
     },
     "metadata": {},
     "output_type": "display_data"
    },
    {
     "name": "stdout",
     "output_type": "stream",
     "text": [
      "Revolution 1026-1058 finished!\n"
     ]
    },
    {
     "data": {
      "application/vnd.jupyter.widget-view+json": {
       "model_id": "a540c9ac7f2049ccb3892d4930db8afa",
       "version_major": 2,
       "version_minor": 0
      },
      "text/plain": [
       "processing MLE analyses:   0%|                                                        | 0/1 [00:00<?, ?it/s]"
      ]
     },
     "metadata": {},
     "output_type": "display_data"
    },
    {
     "data": {
      "application/vnd.jupyter.widget-view+json": {
       "model_id": "ee4c2481c7ef457e932c68af3bb11675",
       "version_major": 2,
       "version_minor": 0
      },
      "text/plain": [
       "processing MLE analyses:   0%|                                                        | 0/1 [00:00<?, ?it/s]"
      ]
     },
     "metadata": {},
     "output_type": "display_data"
    },
    {
     "data": {
      "application/vnd.jupyter.widget-view+json": {
       "model_id": "f8a52f76ffd94ec5a4f8261cff5980b4",
       "version_major": 2,
       "version_minor": 0
      },
      "text/plain": [
       "processing MLE analyses:   0%|                                                        | 0/1 [00:00<?, ?it/s]"
      ]
     },
     "metadata": {},
     "output_type": "display_data"
    },
    {
     "data": {
      "application/vnd.jupyter.widget-view+json": {
       "model_id": "ade5ccf1f6144159b7b6c086dda31cd7",
       "version_major": 2,
       "version_minor": 0
      },
      "text/plain": [
       "processing MLE analyses:   0%|                                                        | 0/1 [00:00<?, ?it/s]"
      ]
     },
     "metadata": {},
     "output_type": "display_data"
    },
    {
     "data": {
      "application/vnd.jupyter.widget-view+json": {
       "model_id": "31c4ca9b18094ea2af670f6b7e121e18",
       "version_major": 2,
       "version_minor": 0
      },
      "text/plain": [
       "processing MLE analyses:   0%|                                                        | 0/1 [00:00<?, ?it/s]"
      ]
     },
     "metadata": {},
     "output_type": "display_data"
    },
    {
     "data": {
      "application/vnd.jupyter.widget-view+json": {
       "model_id": "29fc46a07ed84c389a819fd9f85fe51c",
       "version_major": 2,
       "version_minor": 0
      },
      "text/plain": [
       "processing MLE analyses:   0%|                                                        | 0/1 [00:00<?, ?it/s]"
      ]
     },
     "metadata": {},
     "output_type": "display_data"
    },
    {
     "name": "stdout",
     "output_type": "stream",
     "text": [
      "Revolution 1059-1092 finished!\n"
     ]
    },
    {
     "data": {
      "application/vnd.jupyter.widget-view+json": {
       "model_id": "8dba4c2f4dea491f960b5f87e4aa661f",
       "version_major": 2,
       "version_minor": 0
      },
      "text/plain": [
       "processing MLE analyses:   0%|                                                        | 0/1 [00:00<?, ?it/s]"
      ]
     },
     "metadata": {},
     "output_type": "display_data"
    },
    {
     "data": {
      "application/vnd.jupyter.widget-view+json": {
       "model_id": "b9620317e441485692dc26ad74ae509e",
       "version_major": 2,
       "version_minor": 0
      },
      "text/plain": [
       "processing MLE analyses:   0%|                                                        | 0/1 [00:00<?, ?it/s]"
      ]
     },
     "metadata": {},
     "output_type": "display_data"
    },
    {
     "data": {
      "application/vnd.jupyter.widget-view+json": {
       "model_id": "2967a11260df4946b99d09fa44eeb668",
       "version_major": 2,
       "version_minor": 0
      },
      "text/plain": [
       "processing MLE analyses:   0%|                                                        | 0/1 [00:00<?, ?it/s]"
      ]
     },
     "metadata": {},
     "output_type": "display_data"
    },
    {
     "data": {
      "application/vnd.jupyter.widget-view+json": {
       "model_id": "5f0fc18ae9c245879fe4cbde16d146ec",
       "version_major": 2,
       "version_minor": 0
      },
      "text/plain": [
       "processing MLE analyses:   0%|                                                        | 0/1 [00:00<?, ?it/s]"
      ]
     },
     "metadata": {},
     "output_type": "display_data"
    },
    {
     "data": {
      "application/vnd.jupyter.widget-view+json": {
       "model_id": "e38ccdf954ff4332997383d4b9c8a9cf",
       "version_major": 2,
       "version_minor": 0
      },
      "text/plain": [
       "processing MLE analyses:   0%|                                                        | 0/1 [00:00<?, ?it/s]"
      ]
     },
     "metadata": {},
     "output_type": "display_data"
    },
    {
     "data": {
      "application/vnd.jupyter.widget-view+json": {
       "model_id": "8a7da241bb2641b6a1231e63f7ceeeb2",
       "version_major": 2,
       "version_minor": 0
      },
      "text/plain": [
       "processing MLE analyses:   0%|                                                        | 0/1 [00:00<?, ?it/s]"
      ]
     },
     "metadata": {},
     "output_type": "display_data"
    },
    {
     "name": "stdout",
     "output_type": "stream",
     "text": [
      "Revolution 1093-1217 finished!\n"
     ]
    },
    {
     "data": {
      "application/vnd.jupyter.widget-view+json": {
       "model_id": "b0d0950be4874513b78da7eb16c15a6c",
       "version_major": 2,
       "version_minor": 0
      },
      "text/plain": [
       "processing MLE analyses:   0%|                                                        | 0/1 [00:00<?, ?it/s]"
      ]
     },
     "metadata": {},
     "output_type": "display_data"
    },
    {
     "data": {
      "application/vnd.jupyter.widget-view+json": {
       "model_id": "deb54e1e8a1a479a934591f29e8e2c85",
       "version_major": 2,
       "version_minor": 0
      },
      "text/plain": [
       "processing MLE analyses:   0%|                                                        | 0/1 [00:00<?, ?it/s]"
      ]
     },
     "metadata": {},
     "output_type": "display_data"
    },
    {
     "data": {
      "application/vnd.jupyter.widget-view+json": {
       "model_id": "2c706b23c1ea4105ab0fce8cb44b7ae2",
       "version_major": 2,
       "version_minor": 0
      },
      "text/plain": [
       "processing MLE analyses:   0%|                                                        | 0/1 [00:00<?, ?it/s]"
      ]
     },
     "metadata": {},
     "output_type": "display_data"
    },
    {
     "data": {
      "application/vnd.jupyter.widget-view+json": {
       "model_id": "7c6d56c68d994e8e9214fe471db495aa",
       "version_major": 2,
       "version_minor": 0
      },
      "text/plain": [
       "processing MLE analyses:   0%|                                                        | 0/1 [00:00<?, ?it/s]"
      ]
     },
     "metadata": {},
     "output_type": "display_data"
    },
    {
     "data": {
      "application/vnd.jupyter.widget-view+json": {
       "model_id": "9cd0bde3403d42cf91145ca770686099",
       "version_major": 2,
       "version_minor": 0
      },
      "text/plain": [
       "processing MLE analyses:   0%|                                                        | 0/1 [00:00<?, ?it/s]"
      ]
     },
     "metadata": {},
     "output_type": "display_data"
    },
    {
     "data": {
      "application/vnd.jupyter.widget-view+json": {
       "model_id": "0b50461887504d3b823677fbe28d1fef",
       "version_major": 2,
       "version_minor": 0
      },
      "text/plain": [
       "processing MLE analyses:   0%|                                                        | 0/1 [00:00<?, ?it/s]"
      ]
     },
     "metadata": {},
     "output_type": "display_data"
    },
    {
     "name": "stdout",
     "output_type": "stream",
     "text": [
      "Revolution 1218-1302 finished!\n"
     ]
    },
    {
     "data": {
      "application/vnd.jupyter.widget-view+json": {
       "model_id": "3e30c2cf675c4b92b34f05aff461bfa5",
       "version_major": 2,
       "version_minor": 0
      },
      "text/plain": [
       "processing MLE analyses:   0%|                                                        | 0/1 [00:00<?, ?it/s]"
      ]
     },
     "metadata": {},
     "output_type": "display_data"
    },
    {
     "data": {
      "application/vnd.jupyter.widget-view+json": {
       "model_id": "cd011b7b7de249a0a6686801c04b4879",
       "version_major": 2,
       "version_minor": 0
      },
      "text/plain": [
       "processing MLE analyses:   0%|                                                        | 0/1 [00:00<?, ?it/s]"
      ]
     },
     "metadata": {},
     "output_type": "display_data"
    },
    {
     "data": {
      "application/vnd.jupyter.widget-view+json": {
       "model_id": "fae6d4a9c12a4abfba5dae439b440fce",
       "version_major": 2,
       "version_minor": 0
      },
      "text/plain": [
       "processing MLE analyses:   0%|                                                        | 0/1 [00:00<?, ?it/s]"
      ]
     },
     "metadata": {},
     "output_type": "display_data"
    },
    {
     "data": {
      "application/vnd.jupyter.widget-view+json": {
       "model_id": "1291ec70092f4bf4a7091d157655d699",
       "version_major": 2,
       "version_minor": 0
      },
      "text/plain": [
       "processing MLE analyses:   0%|                                                        | 0/1 [00:00<?, ?it/s]"
      ]
     },
     "metadata": {},
     "output_type": "display_data"
    },
    {
     "data": {
      "application/vnd.jupyter.widget-view+json": {
       "model_id": "4f33face76d24213868bb81672823c99",
       "version_major": 2,
       "version_minor": 0
      },
      "text/plain": [
       "processing MLE analyses:   0%|                                                        | 0/1 [00:00<?, ?it/s]"
      ]
     },
     "metadata": {},
     "output_type": "display_data"
    },
    {
     "data": {
      "application/vnd.jupyter.widget-view+json": {
       "model_id": "458981725753448cbe1cfe2961940224",
       "version_major": 2,
       "version_minor": 0
      },
      "text/plain": [
       "processing MLE analyses:   0%|                                                        | 0/1 [00:00<?, ?it/s]"
      ]
     },
     "metadata": {},
     "output_type": "display_data"
    },
    {
     "name": "stdout",
     "output_type": "stream",
     "text": [
      "Revolution 1303-1491 finished!\n"
     ]
    },
    {
     "data": {
      "application/vnd.jupyter.widget-view+json": {
       "model_id": "73cdc326d2a345d8ac68a733adde43a1",
       "version_major": 2,
       "version_minor": 0
      },
      "text/plain": [
       "processing MLE analyses:   0%|                                                        | 0/1 [00:00<?, ?it/s]"
      ]
     },
     "metadata": {},
     "output_type": "display_data"
    },
    {
     "data": {
      "application/vnd.jupyter.widget-view+json": {
       "model_id": "9028c524538e48c785023042b2ffbcff",
       "version_major": 2,
       "version_minor": 0
      },
      "text/plain": [
       "processing MLE analyses:   0%|                                                        | 0/1 [00:00<?, ?it/s]"
      ]
     },
     "metadata": {},
     "output_type": "display_data"
    },
    {
     "data": {
      "application/vnd.jupyter.widget-view+json": {
       "model_id": "f8ab8b09e887440e925ad5c871e5b1e6",
       "version_major": 2,
       "version_minor": 0
      },
      "text/plain": [
       "processing MLE analyses:   0%|                                                        | 0/1 [00:00<?, ?it/s]"
      ]
     },
     "metadata": {},
     "output_type": "display_data"
    },
    {
     "data": {
      "application/vnd.jupyter.widget-view+json": {
       "model_id": "d6d610ef90894d1980b1845fba593e3d",
       "version_major": 2,
       "version_minor": 0
      },
      "text/plain": [
       "processing MLE analyses:   0%|                                                        | 0/1 [00:00<?, ?it/s]"
      ]
     },
     "metadata": {},
     "output_type": "display_data"
    },
    {
     "data": {
      "application/vnd.jupyter.widget-view+json": {
       "model_id": "c32f19529c1c414aba7c2fad27e91d1f",
       "version_major": 2,
       "version_minor": 0
      },
      "text/plain": [
       "processing MLE analyses:   0%|                                                        | 0/1 [00:00<?, ?it/s]"
      ]
     },
     "metadata": {},
     "output_type": "display_data"
    },
    {
     "data": {
      "application/vnd.jupyter.widget-view+json": {
       "model_id": "78da55811c0a42658e07f2320ae323b6",
       "version_major": 2,
       "version_minor": 0
      },
      "text/plain": [
       "processing MLE analyses:   0%|                                                        | 0/1 [00:00<?, ?it/s]"
      ]
     },
     "metadata": {},
     "output_type": "display_data"
    },
    {
     "name": "stdout",
     "output_type": "stream",
     "text": [
      "Revolution 1492-1621 finished!\n"
     ]
    },
    {
     "data": {
      "application/vnd.jupyter.widget-view+json": {
       "model_id": "2d9eff76d605498fbc7fc84c4586b697",
       "version_major": 2,
       "version_minor": 0
      },
      "text/plain": [
       "processing MLE analyses:   0%|                                                        | 0/1 [00:00<?, ?it/s]"
      ]
     },
     "metadata": {},
     "output_type": "display_data"
    },
    {
     "data": {
      "application/vnd.jupyter.widget-view+json": {
       "model_id": "45735a50d9f84bf29b6619612e0f0aa3",
       "version_major": 2,
       "version_minor": 0
      },
      "text/plain": [
       "processing MLE analyses:   0%|                                                        | 0/1 [00:00<?, ?it/s]"
      ]
     },
     "metadata": {},
     "output_type": "display_data"
    },
    {
     "data": {
      "application/vnd.jupyter.widget-view+json": {
       "model_id": "ca68b9a5b7bf4bacbff51814a915a062",
       "version_major": 2,
       "version_minor": 0
      },
      "text/plain": [
       "processing MLE analyses:   0%|                                                        | 0/1 [00:00<?, ?it/s]"
      ]
     },
     "metadata": {},
     "output_type": "display_data"
    },
    {
     "data": {
      "application/vnd.jupyter.widget-view+json": {
       "model_id": "b5a595711a7f4ced871cca7b59d32c2e",
       "version_major": 2,
       "version_minor": 0
      },
      "text/plain": [
       "processing MLE analyses:   0%|                                                        | 0/1 [00:00<?, ?it/s]"
      ]
     },
     "metadata": {},
     "output_type": "display_data"
    },
    {
     "data": {
      "application/vnd.jupyter.widget-view+json": {
       "model_id": "e599868c43a14b309747a18a36a2ea73",
       "version_major": 2,
       "version_minor": 0
      },
      "text/plain": [
       "processing MLE analyses:   0%|                                                        | 0/1 [00:00<?, ?it/s]"
      ]
     },
     "metadata": {},
     "output_type": "display_data"
    },
    {
     "data": {
      "application/vnd.jupyter.widget-view+json": {
       "model_id": "289fab29841646dd84e4cf422e7d977e",
       "version_major": 2,
       "version_minor": 0
      },
      "text/plain": [
       "processing MLE analyses:   0%|                                                        | 0/1 [00:00<?, ?it/s]"
      ]
     },
     "metadata": {},
     "output_type": "display_data"
    },
    {
     "name": "stdout",
     "output_type": "stream",
     "text": [
      "Revolution 1622-1861 finished!\n"
     ]
    },
    {
     "data": {
      "application/vnd.jupyter.widget-view+json": {
       "model_id": "f151519dd9a7432ba2f154525567209f",
       "version_major": 2,
       "version_minor": 0
      },
      "text/plain": [
       "processing MLE analyses:   0%|                                                        | 0/1 [00:00<?, ?it/s]"
      ]
     },
     "metadata": {},
     "output_type": "display_data"
    },
    {
     "data": {
      "application/vnd.jupyter.widget-view+json": {
       "model_id": "26ba298502f74b1eb717d366c7be366e",
       "version_major": 2,
       "version_minor": 0
      },
      "text/plain": [
       "processing MLE analyses:   0%|                                                        | 0/1 [00:00<?, ?it/s]"
      ]
     },
     "metadata": {},
     "output_type": "display_data"
    },
    {
     "data": {
      "application/vnd.jupyter.widget-view+json": {
       "model_id": "a154b5ab40b94209994450cbdb756285",
       "version_major": 2,
       "version_minor": 0
      },
      "text/plain": [
       "processing MLE analyses:   0%|                                                        | 0/1 [00:00<?, ?it/s]"
      ]
     },
     "metadata": {},
     "output_type": "display_data"
    },
    {
     "data": {
      "application/vnd.jupyter.widget-view+json": {
       "model_id": "8a5a919310dd477c815b3b967cc5bd96",
       "version_major": 2,
       "version_minor": 0
      },
      "text/plain": [
       "processing MLE analyses:   0%|                                                        | 0/1 [00:00<?, ?it/s]"
      ]
     },
     "metadata": {},
     "output_type": "display_data"
    },
    {
     "data": {
      "application/vnd.jupyter.widget-view+json": {
       "model_id": "78b0ddaf4af541b5ad922fb176c2cdbb",
       "version_major": 2,
       "version_minor": 0
      },
      "text/plain": [
       "processing MLE analyses:   0%|                                                        | 0/1 [00:00<?, ?it/s]"
      ]
     },
     "metadata": {},
     "output_type": "display_data"
    },
    {
     "data": {
      "application/vnd.jupyter.widget-view+json": {
       "model_id": "a2e82e63f3dd4671b7facef10cad7b83",
       "version_major": 2,
       "version_minor": 0
      },
      "text/plain": [
       "processing MLE analyses:   0%|                                                        | 0/1 [00:00<?, ?it/s]"
      ]
     },
     "metadata": {},
     "output_type": "display_data"
    },
    {
     "name": "stdout",
     "output_type": "stream",
     "text": [
      "Revolution 1862-1872 finished!\n"
     ]
    },
    {
     "data": {
      "application/vnd.jupyter.widget-view+json": {
       "model_id": "8b2d5cd20e5840f789b49b78509976a6",
       "version_major": 2,
       "version_minor": 0
      },
      "text/plain": [
       "processing MLE analyses:   0%|                                                        | 0/1 [00:00<?, ?it/s]"
      ]
     },
     "metadata": {},
     "output_type": "display_data"
    },
    {
     "data": {
      "application/vnd.jupyter.widget-view+json": {
       "model_id": "fe8b10213c0e4bd4b41ed357b223bc7e",
       "version_major": 2,
       "version_minor": 0
      },
      "text/plain": [
       "processing MLE analyses:   0%|                                                        | 0/1 [00:00<?, ?it/s]"
      ]
     },
     "metadata": {},
     "output_type": "display_data"
    },
    {
     "data": {
      "application/vnd.jupyter.widget-view+json": {
       "model_id": "df9b5d13de6b4aea8f8f93439d7ab568",
       "version_major": 2,
       "version_minor": 0
      },
      "text/plain": [
       "processing MLE analyses:   0%|                                                        | 0/1 [00:00<?, ?it/s]"
      ]
     },
     "metadata": {},
     "output_type": "display_data"
    },
    {
     "data": {
      "application/vnd.jupyter.widget-view+json": {
       "model_id": "42434aaefeeb4e4aae6a0a08ba71baa2",
       "version_major": 2,
       "version_minor": 0
      },
      "text/plain": [
       "processing MLE analyses:   0%|                                                        | 0/1 [00:00<?, ?it/s]"
      ]
     },
     "metadata": {},
     "output_type": "display_data"
    },
    {
     "data": {
      "application/vnd.jupyter.widget-view+json": {
       "model_id": "535bc0253509447abfc76f0298557b22",
       "version_major": 2,
       "version_minor": 0
      },
      "text/plain": [
       "processing MLE analyses:   0%|                                                        | 0/1 [00:00<?, ?it/s]"
      ]
     },
     "metadata": {},
     "output_type": "display_data"
    },
    {
     "data": {
      "application/vnd.jupyter.widget-view+json": {
       "model_id": "3e5cc622c4d5413ab45637b3246d21ac",
       "version_major": 2,
       "version_minor": 0
      },
      "text/plain": [
       "processing MLE analyses:   0%|                                                        | 0/1 [00:00<?, ?it/s]"
      ]
     },
     "metadata": {},
     "output_type": "display_data"
    },
    {
     "name": "stdout",
     "output_type": "stream",
     "text": [
      "Revolution 1873-2010 finished!\n",
      "[1149.656065320728, 1314.5132613830488, 1463.9511843525943, 2059.0601958584325, 2726.9922097249128, 3084.2219426766464, 3332.6569301347126, 3513.7060426210855, 3527.2613991807984, 3835.611340210869, 4065.819837893376, 4075.9664649450924, 4090.2521148095875, 4275.269657309072, 4415.131794165311, 4757.574070488551, 5215.926706848293, 5661.28752001995, 6164.763304977053, 6479.335870465134, 6729.124570011129]\n",
      "[52693.65606532073, 52858.51326138305, 53007.9511843526, 53603.06019585843, 54270.992209724915, 54628.221942676646, 54876.65693013471, 55057.70604262109, 55071.261399180796, 55379.61134021087, 55609.819837893374, 55619.96646494509, 55634.252114809584, 55819.26965730907, 55959.13179416531, 56301.574070488554, 56759.926706848295, 57205.28752001995, 57708.76330497705, 58023.33587046513, 58273.12457001113]\n",
      "[12.358484294660002, 101.87918565836992, 87.36392539287999, 386.9075973240649, 97.00056421471982, 99.88148684111002, 1.2268470481499207, 3.272293654059922, 1.287986895584936, 101.96592958765996, 1.2905913292199784, 5.074522982125018, 3.2002102977601226, 1.2183282658852477, 177.70212462210975, 85.42409167699998, 211.2227989581802, 126.34886127616028, 284.2242557211898, 1.8079410287095925, 177.0714749140352]\n",
      "[12.358484294660002, 101.87918565836992, 87.36392539287999, 386.9075973240649, 97.00056421471982, 99.88148684111002, 1.2268470481499207, 3.272293654059922, 1.287986895584936, 101.96592958765996, 1.2905913292199784, 5.074522982125018, 3.2002102977601226, 1.2183282658852477, 177.70212462210975, 85.42409167699998, 211.2227989581802, 126.34886127616028, 284.2242557211898, 1.8079410287095925, 177.0714749140352]\n"
     ]
    }
   ],
   "source": [
    "for i in range(len(rev)):\n",
    "    import_fits_combined(rev[i])\n",
    "    get_days(rev[i])\n",
    "    \n",
    "print(IJD)\n",
    "print(MJD)\n",
    "print(IJD_err)\n",
    "print(MJD_err)\n",
    "    "
   ]
  },
  {
   "cell_type": "code",
   "execution_count": 11,
   "id": "bad85f8d",
   "metadata": {},
   "outputs": [],
   "source": [
    "asflux24_50_err = np.array(list(zip(flux24_50_err_low, flux24_50_err_up))).T\n",
    "asflux50_150_err = np.array(list(zip(flux50_150_err_low, flux50_150_err_up))).T\n",
    "asflux150_400_err = np.array(list(zip(flux150_400_err_low, flux150_400_err_up))).T\n",
    "asflux400_650_err = np.array(list(zip(flux400_650_err_low, flux400_650_err_up))).T\n",
    "asflux650_2000_err = np.array(list(zip(flux650_2000_err_low, flux650_2000_err_up))).T\n",
    "asflux2000_8000_err = np.array(list(zip(flux2000_8000_err_low, flux2000_8000_err_up))).T"
   ]
  },
  {
   "cell_type": "markdown",
   "id": "b0678103",
   "metadata": {},
   "source": [
    "# OLD PLOTS"
   ]
  },
  {
   "cell_type": "code",
   "execution_count": 12,
   "id": "7d5d227f",
   "metadata": {},
   "outputs": [
    {
     "data": {
      "image/png": "[encoded data removed]",
      "text/plain": [
       "<Figure size 748.8x1080 with 6 Axes>"
      ]
     },
     "metadata": {},
     "output_type": "display_data"
    }
   ],
   "source": [
    "#####################\n",
    "# PLOT DATA #\n",
    "#####################\n",
    "\n",
    "\n",
    "fig, axis = plt.subplots(6)\n",
    "\n",
    "\n",
    "axis[0].errorbar(MJD, flux24_50, xerr=MJD_err, yerr = asflux24_50_err, fmt = 'ro',  label = r'Flux 24-50keV')\n",
    "axis[1].errorbar(MJD, flux50_150, xerr=MJD_err, yerr = asflux50_150_err, fmt = 'bo',  label = r'Flux 50-150keV')\n",
    "axis[2].errorbar(MJD, flux150_400, xerr=MJD_err, yerr = asflux150_400_err, fmt = 'go',  label = r'Flux 150-400keV')\n",
    "axis[3].errorbar(MJD, flux400_650, xerr=MJD_err, yerr = asflux400_650_err, fmt = 'co',  label = r'Flux 400-650keV')\n",
    "axis[4].errorbar(MJD, flux650_2000, xerr=MJD_err, yerr = asflux650_2000_err, fmt = 'mo',  label = r'Flux 650-2000keV')\n",
    "axis[5].errorbar(MJD, flux2000_8000, xerr=MJD_err, yerr = asflux2000_8000_err, fmt = 'yo',  label = r'Flux 2000-8000keV')\n",
    "\n",
    "\n",
    "axis[0].set_title('Flux 24-50keV')\n",
    "axis[1].set_title('Flux 50-150keV')\n",
    "axis[2].set_title('Flux 150-400keV')\n",
    "axis[3].set_title('Flux 400-650keV')\n",
    "axis[4].set_title('Flux 650-2000keV')\n",
    "axis[5].set_title('Flux 2000-8000keV')\n",
    "\n",
    "\n",
    "fig.supxlabel(r'Modified Julian Day')\n",
    "fig.supylabel(r'${counts}/{cm^2 \\cdot s \\cdot keV}$')\n",
    "\n",
    "axis[0].ticklabel_format(axis=\"y\", style=\"sci\", scilimits=(0,0))\n",
    "axis[1].ticklabel_format(axis=\"y\", style=\"sci\", scilimits=(0,0))\n",
    "axis[2].ticklabel_format(axis=\"y\", style=\"sci\", scilimits=(0,0))\n",
    "axis[3].ticklabel_format(axis=\"y\", style=\"sci\", scilimits=(0,0))\n",
    "axis[4].ticklabel_format(axis=\"y\", style=\"sci\", scilimits=(0,0))\n",
    "axis[5].ticklabel_format(axis=\"y\", style=\"sci\", scilimits=(0,0))\n",
    "\n",
    "fig.tight_layout()\n",
    "fig.set_figheight(15)\n",
    "\n",
    "fig.show()\n",
    "plt.savefig('3ml_Parameter_combined_Flux_Toulouse_SepRev_MJD.pdf')\n",
    "\n",
    "\n"
   ]
  },
  {
   "cell_type": "code",
   "execution_count": 13,
   "id": "ee7bc659",
   "metadata": {},
   "outputs": [
    {
     "data": {
      "image/png": "[encoded data removed]",
      "text/plain": [
       "<Figure size 748.8x1080 with 6 Axes>"
      ]
     },
     "metadata": {},
     "output_type": "display_data"
    }
   ],
   "source": [
    "fig, axis = plt.subplots(6)\n",
    "\n",
    "\n",
    "axis[0].errorbar(rev_mean_list, flux24_50, xerr=rev_mean_err_list, yerr = asflux24_50_err, fmt = 'ro',  label = r'Flux 24-50keV')\n",
    "axis[1].errorbar(rev_mean_list, flux50_150, xerr=rev_mean_err_list, yerr = asflux50_150_err, fmt = 'bo',  label = r'Flux 50-150keV')\n",
    "axis[2].errorbar(rev_mean_list, flux150_400, xerr=rev_mean_err_list, yerr = asflux150_400_err, fmt = 'go',  label = r'Flux 150-400keV')\n",
    "axis[3].errorbar(rev_mean_list, flux400_650, xerr=rev_mean_err_list, yerr = asflux400_650_err, fmt = 'co',  label = r'Flux 400-650keV')\n",
    "axis[4].errorbar(rev_mean_list, flux650_2000, xerr=rev_mean_err_list, yerr = asflux650_2000_err, fmt = 'mo',  label = r'Flux 650-2000keV')\n",
    "axis[5].errorbar(rev_mean_list, flux2000_8000, xerr=rev_mean_err_list, yerr = asflux2000_8000_err, fmt = 'yo',  label = r'Flux 2000-8000keV')\n",
    "\n",
    "\n",
    "axis[0].set_title('Flux 24-50keV')\n",
    "axis[1].set_title('Flux 50-150keV')\n",
    "axis[2].set_title('Flux 150-400keV')\n",
    "axis[3].set_title('Flux 400-650keV')\n",
    "axis[4].set_title('Flux 650-2000keV')\n",
    "axis[5].set_title('Flux 2000-8000keV')\n",
    "\n",
    "\n",
    "fig.supxlabel(r'Revolutions')\n",
    "fig.supylabel(r'${counts}/{cm^2 \\cdot s \\cdot keV}$')\n",
    "\n",
    "axis[0].ticklabel_format(axis=\"y\", style=\"sci\", scilimits=(0,0))\n",
    "axis[1].ticklabel_format(axis=\"y\", style=\"sci\", scilimits=(0,0))\n",
    "axis[2].ticklabel_format(axis=\"y\", style=\"sci\", scilimits=(0,0))\n",
    "axis[3].ticklabel_format(axis=\"y\", style=\"sci\", scilimits=(0,0))\n",
    "axis[4].ticklabel_format(axis=\"y\", style=\"sci\", scilimits=(0,0))\n",
    "axis[5].ticklabel_format(axis=\"y\", style=\"sci\", scilimits=(0,0))\n",
    "\n",
    "fig.tight_layout()\n",
    "fig.set_figheight(15)\n",
    "\n",
    "fig.show()\n",
    "plt.savefig('3ml_Parameter_combined_Flux_Toulouse_SepRev_Rev.pdf')"
   ]
  },
  {
   "cell_type": "markdown",
   "id": "2c7f0f68",
   "metadata": {},
   "source": [
    "# BA PLOTS"
   ]
  },
  {
   "cell_type": "code",
   "execution_count": 14,
   "id": "caec984a",
   "metadata": {},
   "outputs": [
    {
     "data": {
      "image/png": "[encoded data removed]",
      "text/plain": [
       "<Figure size 1200x800 with 2 Axes>"
      ]
     },
     "metadata": {},
     "output_type": "display_data"
    }
   ],
   "source": [
    "plt.style.use('default')\n",
    "\n",
    "fig, axis = plt.subplots(2, figsize = (12,8))\n",
    "\n",
    "\n",
    "axis[0].errorbar(MJD, flux24_50, xerr=MJD_err, yerr = asflux24_50_err, fmt = 'ro',  label = r'Crab Nebula Flux 24-50keV')\n",
    "axis[1].errorbar(MJD, flux50_150, xerr=MJD_err, yerr = asflux50_150_err, fmt = 'ro',  label = r'Crab Nebula Flux 50-150keV')\n",
    "\n",
    "\n",
    "axis[0].set_title('Crab Nebula Flux 24-50keV', weight = 'bold')\n",
    "axis[1].set_title('Crab Nebula Flux 50-150keV', weight = 'bold')\n",
    "\n",
    "\n",
    "axis[0].set_xlabel(r'Modified Julian Day')\n",
    "axis[0].set_ylabel(r'${counts}/{cm^2 \\cdot s \\cdot keV}$')\n",
    "\n",
    "axis[1].set_xlabel(r'Modified Julian Day')\n",
    "axis[1].set_ylabel(r'${counts}/{cm^2 \\cdot s \\cdot keV}$')\n",
    "\n",
    "\n",
    "axis[0].ticklabel_format(axis=\"y\", style=\"sci\", scilimits=(0,0))\n",
    "axis[1].ticklabel_format(axis=\"y\", style=\"sci\", scilimits=(0,0))\n",
    "\n",
    "axis[0].axhline(np.mean(flux24_50), color = 'blue', ls = '-.', alpha = 0.6, label = 'Average Flux')\n",
    "axis[0].axhline(np.mean(flux24_50)*0.95, color = 'dodgerblue', ls = '-.', alpha = 0.6, label = '-5% Average Flux')\n",
    "axis[0].axhline(np.mean(flux24_50)*1.05, color = 'dodgerblue', ls = '-.', alpha = 0.6, label = '+5% Average Flux')\n",
    "\n",
    "\n",
    "axis[0].axvline(53371, color = 'black', ls = '--', alpha = 0.4, label = '2005')\n",
    "axis[0].text(53371+100, axis[0].get_ylim()[1]*0.985, '2005', fontsize = 14)\n",
    "axis[0].axvline(55197, color = 'black', ls = '--', alpha = 0.4, label = '2010')\n",
    "axis[0].text(55197+100, axis[0].get_ylim()[1]*0.985, '2010', fontsize = 14)\n",
    "axis[0].axvline(57023, color = 'black', ls = '--', alpha = 0.4, label = '2015')\n",
    "axis[0].text(57023+100, axis[0].get_ylim()[1]*0.985, '2015', fontsize = 14)\n",
    "\n",
    "\n",
    "axis[1].axhline(np.mean(flux50_150), color = 'blue', ls = '-.', alpha = 0.6, label = 'Average Flux')\n",
    "axis[1].axhline(np.mean(flux50_150)*0.95, color = 'dodgerblue', ls = '-.', alpha = 0.6, label = '-5% Average Flux')\n",
    "axis[1].axhline(np.mean(flux50_150)*1.05, color = 'dodgerblue', ls = '-.', alpha = 0.6, label = '+5% Average Flux')\n",
    "\n",
    "axis[1].axvline(53371, color = 'black', ls = '--', alpha = 0.4, label = '2005')\n",
    "axis[1].text(53371+100, axis[1].get_ylim()[1]*0.98, '2005', fontsize = 14)\n",
    "axis[1].axvline(55197, color = 'black', ls = '--', alpha = 0.4, label = '2010')\n",
    "axis[1].text(55197+100, axis[1].get_ylim()[1]*0.98, '2010', fontsize = 14)\n",
    "axis[1].axvline(57023, color = 'black', ls = '--', alpha = 0.4, label = '2015')\n",
    "axis[1].text(57023+100, axis[1].get_ylim()[1]*0.98, '2015', fontsize = 14)\n",
    "\n",
    "fig.tight_layout()\n",
    "\n",
    "fig.show()\n",
    "plt.savefig('3ml_Parameter_combined_Flux24-150keV_Toulouse_SepRev_MJD.pdf')"
   ]
  },
  {
   "cell_type": "code",
   "execution_count": 15,
   "id": "e362ad32",
   "metadata": {},
   "outputs": [
    {
     "data": {
      "image/png": "[encoded data removed]",
      "text/plain": [
       "<Figure size 1200x800 with 2 Axes>"
      ]
     },
     "metadata": {},
     "output_type": "display_data"
    }
   ],
   "source": [
    "plt.style.use('default')\n",
    "\n",
    "fig, axis = plt.subplots(2, figsize = (12,8))\n",
    "\n",
    "\n",
    "axis[0].errorbar(MJD, flux150_400, xerr=MJD_err, yerr = asflux150_400_err, fmt = 'ro',  label = r'Crab Nebula Flux 150-400keV')\n",
    "axis[1].errorbar(MJD, flux400_650, xerr=MJD_err, yerr = asflux400_650_err, fmt = 'ro',  label = r'Crab Nebula Flux 400-650keV')\n",
    "\n",
    "\n",
    "axis[0].set_title('Crab Nebula Flux 150-400keV', weight = 'bold')\n",
    "axis[1].set_title('Crab Nebula Flux 400-650keV', weight = 'bold')\n",
    "\n",
    "\n",
    "axis[0].set_xlabel(r'Modified Julian Day')\n",
    "axis[0].set_ylabel(r'${counts}/{cm^2 \\cdot s \\cdot keV}$')\n",
    "\n",
    "axis[1].set_xlabel(r'Modified Julian Day')\n",
    "axis[1].set_ylabel(r'${counts}/{cm^2 \\cdot s \\cdot keV}$')\n",
    "\n",
    "axis[0].ticklabel_format(axis=\"y\", style=\"sci\", scilimits=(0,0))\n",
    "axis[1].ticklabel_format(axis=\"y\", style=\"sci\", scilimits=(0,0))\n",
    "\n",
    "\n",
    "axis[0].axhline(np.mean(flux150_400), color = 'blue', ls = '-.', alpha = 0.6, label = 'Average Flux')\n",
    "axis[0].axhline(np.mean(flux150_400)*0.95, color = 'dodgerblue', ls = '-.', alpha = 0.6, label = '-5% Average Flux')\n",
    "axis[0].axhline(np.mean(flux150_400)*1.05, color = 'dodgerblue', ls = '-.', alpha = 0.6, label = '+5% Average Flux')\n",
    "\n",
    "\n",
    "axis[0].axvline(53371, color = 'black', ls = '--', alpha = 0.4, label = '2005')\n",
    "axis[0].text(53371+100, axis[0].get_ylim()[1]*0.975, '2005', fontsize = 14)\n",
    "axis[0].axvline(55197, color = 'black', ls = '--', alpha = 0.4, label = '2010')\n",
    "axis[0].text(55197+100, axis[0].get_ylim()[1]*0.975, '2010', fontsize = 14)\n",
    "axis[0].axvline(57023, color = 'black', ls = '--', alpha = 0.4, label = '2015')\n",
    "axis[0].text(57023+100, axis[0].get_ylim()[1]*0.975, '2015', fontsize = 14)\n",
    "\n",
    "\n",
    "axis[1].axhline(np.mean(flux400_650), color = 'blue', ls = '-.', alpha = 0.6, label = 'Average Flux')\n",
    "axis[1].axhline(np.mean(flux400_650)*0.95, color = 'dodgerblue', ls = '-.', alpha = 0.6, label = '-5% Average Flux')\n",
    "axis[1].axhline(np.mean(flux400_650)*1.05, color = 'dodgerblue', ls = '-.', alpha = 0.6, label = '+5% Average Flux')\n",
    "\n",
    "axis[1].axvline(53371, color = 'black', ls = '--', alpha = 0.4, label = '2005')\n",
    "axis[1].text(53371+100, axis[1].get_ylim()[1]*0.96, '2005', fontsize = 14)\n",
    "axis[1].axvline(55197, color = 'black', ls = '--', alpha = 0.4, label = '2010')\n",
    "axis[1].text(55197+100, axis[1].get_ylim()[1]*0.96, '2010', fontsize = 14)\n",
    "axis[1].axvline(57023, color = 'black', ls = '--', alpha = 0.4, label = '2015')\n",
    "axis[1].text(57023+100, axis[1].get_ylim()[1]*0.96, '2015', fontsize = 14)\n",
    "\n",
    "fig.tight_layout()\n",
    "\n",
    "fig.show()\n",
    "plt.savefig('3ml_Parameter_combined_Flux150-650keV_Toulouse_SepRev_MJD.pdf')"
   ]
  },
  {
   "cell_type": "code",
   "execution_count": 16,
   "id": "3467eeb5",
   "metadata": {},
   "outputs": [
    {
     "data": {
      "image/png": "[encoded data removed]",
      "text/plain": [
       "<Figure size 1200x800 with 2 Axes>"
      ]
     },
     "metadata": {},
     "output_type": "display_data"
    }
   ],
   "source": [
    "plt.style.use('default')\n",
    "\n",
    "fig, axis = plt.subplots(2, figsize = (12,8))\n",
    "\n",
    "\n",
    "axis[0].errorbar(MJD, flux650_2000, xerr=MJD_err, yerr = asflux650_2000_err, fmt = 'ro',  label = r'Crab Nebula Flux 650-2000keV')\n",
    "axis[1].errorbar(MJD, flux2000_8000, xerr=MJD_err, yerr = asflux2000_8000_err, fmt = 'ro',  label = r'Crab Nebula Flux 2000-8000keV')\n",
    "\n",
    "axis[0].set_title('Crab Nebula Flux 650-2000keV', weight = 'bold')\n",
    "axis[1].set_title('Crab Nebula Flux 2000-8000keV', weight = 'bold')\n",
    "\n",
    "\n",
    "axis[0].set_xlabel(r'Modified Julian Day')\n",
    "axis[0].set_ylabel(r'${counts}/{cm^2 \\cdot s \\cdot keV}$')\n",
    "\n",
    "axis[1].set_xlabel(r'Modified Julian Day')\n",
    "axis[1].set_ylabel(r'${counts}/{cm^2 \\cdot s \\cdot keV}$')\n",
    "\n",
    "axis[0].ticklabel_format(axis=\"y\", style=\"sci\", scilimits=(0,0))\n",
    "axis[1].ticklabel_format(axis=\"y\", style=\"sci\", scilimits=(0,0))\n",
    "\n",
    "axis[0].axhline(np.mean(flux650_2000), color = 'blue', ls = '-.', alpha = 0.6, label = 'Average Flux')\n",
    "axis[0].axhline(np.mean(flux650_2000)*0.95, color = 'dodgerblue', ls = '-.', alpha = 0.6, label = '-5% Average Flux')\n",
    "axis[0].axhline(np.mean(flux650_2000)*1.05, color = 'dodgerblue', ls = '-.', alpha = 0.6, label = '+5% Average Flux')\n",
    "\n",
    "\n",
    "axis[0].axvline(53371, color = 'black', ls = '--', alpha = 0.4, label = '2005')\n",
    "axis[0].text(53371+100, axis[0].get_ylim()[1]*0.96, '2005', fontsize = 14)\n",
    "axis[0].axvline(55197, color = 'black', ls = '--', alpha = 0.4, label = '2010')\n",
    "axis[0].text(55197+100, axis[0].get_ylim()[1]*0.96, '2010', fontsize = 14)\n",
    "axis[0].axvline(57023, color = 'black', ls = '--', alpha = 0.4, label = '2015')\n",
    "axis[0].text(57023+100, axis[0].get_ylim()[1]*0.96, '2015', fontsize = 14)\n",
    "\n",
    "\n",
    "axis[1].axhline(np.mean(flux2000_8000), color = 'blue', ls = '-.', alpha = 0.6, label = 'Average Flux')\n",
    "axis[1].axhline(np.mean(flux2000_8000)*0.95, color = 'dodgerblue', ls = '-.', alpha = 0.6, label = '-5% Average Flux')\n",
    "axis[1].axhline(np.mean(flux2000_8000)*1.05, color = 'dodgerblue', ls = '-.', alpha = 0.6, label = '+5% Average Flux')\n",
    "\n",
    "axis[1].axvline(53371, color = 'black', ls = '--', alpha = 0.4, label = '2005')\n",
    "axis[1].text(53371+100, axis[1].get_ylim()[1]*0.94, '2005', fontsize = 14)\n",
    "axis[1].axvline(55197, color = 'black', ls = '--', alpha = 0.4, label = '2010')\n",
    "axis[1].text(55197+100, axis[1].get_ylim()[1]*0.94, '2010', fontsize = 14)\n",
    "axis[1].axvline(57023, color = 'black', ls = '--', alpha = 0.4, label = '2015')\n",
    "axis[1].text(57023+100, axis[1].get_ylim()[1]*0.94, '2015', fontsize = 14)\n",
    "\n",
    "fig.tight_layout()\n",
    "\n",
    "fig.show()\n",
    "plt.savefig('3ml_Parameter_combined_Flux650-8000keV_Toulouse_SepRev_MJD.pdf')"
   ]
  },
  {
   "cell_type": "code",
   "execution_count": null,
   "id": "a62057f9",
   "metadata": {},
   "outputs": [],
   "source": []
  }
 ],
 "metadata": {
  "kernelspec": {
   "display_name": "Python 3 (ipykernel)",
   "language": "python",
   "name": "python3"
  },
  "language_info": {
   "codemirror_mode": {
    "name": "ipython",
    "version": 3
   },
   "file_extension": ".py",
   "mimetype": "text/x-python",
   "name": "python",
   "nbconvert_exporter": "python",
   "pygments_lexer": "ipython3",
   "version": "3.8.10"
  }
 },
 "nbformat": 4,
 "nbformat_minor": 5
}
